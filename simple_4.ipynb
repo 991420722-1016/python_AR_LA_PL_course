{
  "nbformat": 4,
  "nbformat_minor": 0,
  "metadata": {
    "colab": {
      "name": "simple_4.ipynb",
      "provenance": []
    },
    "kernelspec": {
      "name": "python3",
      "display_name": "Python 3"
    },
    "language_info": {
      "name": "python"
    }
  },
  "cells": [
    {
      "cell_type": "code",
      "execution_count": null,
      "metadata": {
        "id": "f0hTO99d4fJu",
        "outputId": "ec6bb5b6-14e6-42ab-d1dc-f9aeaff146e0"
      },
      "outputs": [
        {
          "data": {
            "text/plain": [
              "0       {'lat': 34.114851, 'lng': 108.613909}\n",
              "1       {'lat': 34.114077, 'lng': 108.615356}\n",
              "2       {'lat': 34.114349, 'lng': 108.617478}\n",
              "3       {'lat': 34.114488, 'lng': 108.628826}\n",
              "4       {'lat': 34.113962, 'lng': 108.627623}\n",
              "                        ...                  \n",
              "4446    {'lat': 34.425913, 'lng': 109.281201}\n",
              "4447    {'lat': 34.461472, 'lng': 109.199173}\n",
              "4448    {'lat': 34.518978, 'lng': 109.252513}\n",
              "4449    {'lat': 34.556125, 'lng': 109.308746}\n",
              "4450    {'lat': 34.547764, 'lng': 109.243432}\n",
              "Name: location, Length: 4451, dtype: object"
            ]
          },
          "execution_count": 41,
          "metadata": {},
          "output_type": "execute_result"
        }
      ],
      "source": [
        "# 3.3  西安娱乐场所分布\n",
        "data = pandas.read_json('./data/poi_6_entertainment.json')\n",
        "d = data[\"location\"]\n",
        "d"
      ]
    }
  ]
}
